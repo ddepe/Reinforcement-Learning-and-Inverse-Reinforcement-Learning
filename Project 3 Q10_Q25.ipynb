{
 "cells": [
  {
   "cell_type": "code",
   "execution_count": 1,
   "metadata": {},
   "outputs": [],
   "source": [
    "import numpy as np\n",
    "import matplotlib.pyplot as plt\n",
    "import sys as sys\n",
    "\n",
    "# https://stackoverflow.com/questions/40887753/display-matrix-values-and-colormap"
   ]
  },
  {
   "cell_type": "code",
   "execution_count": 2,
   "metadata": {},
   "outputs": [
    {
     "data": {
      "text/plain": [
       "<matplotlib.colorbar.Colorbar at 0x2191015f550>"
      ]
     },
     "execution_count": 2,
     "metadata": {},
     "output_type": "execute_result"
    },
    {
     "data": {
      "image/png": "[encoded data removed]",
      "text/plain": [
       "<Figure size 432x288 with 2 Axes>"
      ]
     },
     "metadata": {
      "needs_background": "light"
     },
     "output_type": "display_data"
    }
   ],
   "source": [
    "#Q1\n",
    "\n",
    "ReFunc1 =[[0,0,0,0,0,0,0,0,0,0],[0,0,0,0,0,0,0,0,0,0],\n",
    "          [0,0,0,0,0,-10,-10,0,0,0],[0,0,0,0,0,-10,-10,0,0,0],\n",
    "          [0,0,-10,-10,0,0,0,0,0,0],[0,0,-10,-10,0,0,0,0,0,0],\n",
    "          [0,0,0,0,0,0,0,0,0,0],[0,0,0,0,0,0,0,0,0,0],\n",
    "          [0,0,-10,-10,0,0,0,0,0,0],[0,0,-10,-10,0,0,0,0,0,1]]\n",
    "\n",
    "ReFunc2 =[[0,0,0,0,0,0,0,0,0,0],[0,0,0,0,-100,-100,-100,0,0,0],\n",
    "          [0,0,0,0,-100,0,-100,0,0,0],[0,0,0,0,-100,0,-100,-100,-100,0],\n",
    "          [0,0,0,0,-100,0,0,0,-100,0],[0,0,0,0,-100,0,0,0,-100,0],\n",
    "          [0,0,0,0,-100,0,0,0,-100,0],[0,0,0,0,0,0,-100,-100,-100,0],\n",
    "          [0,0,0,0,0,0,-100,0,0,0],[0,0,0,0,0,0,0,0,0,10]]\n",
    "# ReFunc2 = np.rot90(ReFunc2)\n",
    "# ReFunc1 = np.asmatrix(ReFunc1)\n",
    "plt.pcolor(ReFunc1, alpha = 0.6)\n",
    "plt.gca().invert_yaxis()\n",
    "plt.colorbar()\n"
   ]
  },
  {
   "cell_type": "code",
   "execution_count": 3,
   "metadata": {},
   "outputs": [
    {
     "data": {
      "text/plain": [
       "<matplotlib.colorbar.Colorbar at 0x21910238cc0>"
      ]
     },
     "execution_count": 3,
     "metadata": {},
     "output_type": "execute_result"
    },
    {
     "data": {
      "image/png": "[encoded data removed]",
      "text/plain": [
       "<Figure size 432x288 with 2 Axes>"
      ]
     },
     "metadata": {
      "needs_background": "light"
     },
     "output_type": "display_data"
    }
   ],
   "source": [
    "plt.pcolor(ReFunc2, alpha = 0.6)\n",
    "plt.gca().invert_yaxis()\n",
    "plt.colorbar()"
   ]
  },
  {
   "cell_type": "code",
   "execution_count": 4,
   "metadata": {},
   "outputs": [],
   "source": [
    "#Q2\n",
    "\n",
    "values = [[0 for i in range(10)] for i in range(10)]\n",
    "moves = ['L', 'R', 'U', 'D']"
   ]
  },
  {
   "cell_type": "code",
   "execution_count": 5,
   "metadata": {},
   "outputs": [],
   "source": [
    "class environment():\n",
    "    def __init__(self,rewards,  epsilon= 0.01, w = 0.1):\n",
    "        self.values = [[0 for i in range(10)] for i in range(10)]\n",
    "        self.moves = ['L', 'R', 'U', 'D']\n",
    "        self.rewards = rewards\n",
    "        self.delta = sys.maxsize \n",
    "        self.epsilon = epsilon\n",
    "        self.policies = [[0 for i in range(10)] for i in range(10)]\n",
    "        self.probabilities_matrix = [[[] for i in range(10)] for i in range(10)]\n",
    "        self.w = w\n",
    "    def reset():\n",
    "        self.values = [[0 for i in range(10)] for i in range(10)]\n",
    "        self.policies = [[0 for i in range(10)] for i in range(10)]\n",
    "\n",
    "    def estimation(self,states):\n",
    "        while self.delta > self.epsilon:\n",
    "            self.delta = 0\n",
    "            for x in range(len(states)):\n",
    "                for y in range(len(states[x])):\n",
    "#                     value_temp = self.values[x][y]\n",
    "                    maxn = []\n",
    "                    for move in self.moves:\n",
    "                        maxn.append(self.eval_direction(x,y,move, self.w,0.8))\n",
    "                    maxnumb = max(maxn)                    \n",
    "                    self.delta = max(self.delta, abs(self.values[x][y] - maxnumb))\n",
    "                    self.values[x][y] = maxnumb\n",
    "                    \n",
    "\n",
    "\n",
    "    def estimation_policy(self,states):\n",
    "        \n",
    "        for x in range(len(states)):\n",
    "            for y in range(len(states[x])):\n",
    "                maxn = []\n",
    "                directions = [(x-1,y),(x+1,y),(x,y+1),(x,y-1)]\n",
    "\n",
    "                for i, move in enumerate(self.moves):\n",
    "                    maxn.append([self.eval_direction(x,y,move, self.w,0.8), move])\n",
    "                maxnumb = max(maxn, key = lambda x :x[0])    \n",
    "                self.policies[x][y] = maxnumb[1]    \n",
    "\n",
    "        \n",
    "    def eval_direction(self,x,y,direction,w ,discount):\n",
    "        # probabilities indexed by left, right, up, down\n",
    "        probabilities = [w/4,w/4,w/4,w/4]\n",
    "        # when encoutering edge cases, direction off the grid will be replaced with staying in same block\n",
    "        directions = [(x-1,y),(x+1,y),(x,y+1),(x,y-1)]\n",
    "        sumn = []\n",
    "        if x > 0 and x <9 and y > 0 and y < 9:\n",
    "\n",
    "\n",
    "            if direction == 'L':\n",
    "                probabilities[0] = 1-w+w/4\n",
    "            elif direction == 'R':\n",
    "                probabilities[1] = 1-w+w/4\n",
    "            elif direction == 'U':\n",
    "                probabilities[2] = 1-w+w/4\n",
    "            elif direction == 'D':\n",
    "                probabilities[3] = 1-w+w/4\n",
    "\n",
    "\n",
    "        elif (x == 0 and y == 0) or (x == 0 and y == 9) or (x == 9 and y == 0) or (x == 9 and y == 9):\n",
    "            if (x == 0 and y == 0):\n",
    "                directions[0] = (x,y)\n",
    "                directions[3] = (x,y)\n",
    "                if direction == 'L' or direction == 'D':\n",
    "                    probabilities[0] = 1-w+w/4+w/4\n",
    "                    probabilities[3] = 0\n",
    "                elif direction == 'R':\n",
    "                    probabilities[1] = 1-w+w/4\n",
    "                elif direction == 'U':\n",
    "                    probabilities[2] = 1-w+w/4\n",
    "            elif (x == 0 and y == 9):\n",
    "                directions[0] = (x,y)\n",
    "                directions[2] = (x,y)\n",
    "                if direction == 'L' or direction == 'U':\n",
    "                    probabilities[0] = 1-w+w/4+w/4\n",
    "                    probabilities[2] = 0\n",
    "                elif direction == 'R':\n",
    "                    probabilities[1] = 1-w+w/4\n",
    "                elif direction == 'D':\n",
    "                    probabilities[3] = 1-w+w/4\n",
    "            elif  (x == 9 and y == 0):\n",
    "                directions[1] = (x,y)\n",
    "                directions[3] = (x,y)\n",
    "                if direction == 'R' or direction == 'D':\n",
    "                    probabilities[1] = 1-w+w/4+w/4\n",
    "                    probabilities[3] = 0\n",
    "                elif direction == 'L':\n",
    "                    probabilities[0] = 1-w+w/4\n",
    "                elif direction == 'U':\n",
    "                    probabilities[2] = 1-w+w/4\n",
    "            elif  (x == 9 and y == 9):            \n",
    "                directions[1] = (x,y)\n",
    "                directions[2] = (x,y)\n",
    "                if direction == 'R' or direction == 'U':\n",
    "                    probabilities[1] = 1-w+w/4+w/4\n",
    "                    probabilities[2] = 0\n",
    "                elif direction == 'L':\n",
    "                    probabilities[0] = 1-w+w/4\n",
    "                elif direction == 'D':\n",
    "                    probabilities[3] = 1-w+w/4\n",
    "\n",
    "        else:\n",
    "            if direction == 'L':\n",
    "                probabilities[0] = 1-w+w/4\n",
    "            elif direction == 'R': \n",
    "                probabilities[1] = 1-w+w/4\n",
    "            elif direction == 'U':\n",
    "                probabilities[2] = 1-w+w/4\n",
    "            elif direction == 'D':\n",
    "                probabilities[3] = 1-w+w/4 \n",
    "\n",
    "\n",
    "            if x-1 < 0:\n",
    "                directions[0] = (x,y)\n",
    "            elif x+1 > 9:\n",
    "                directions[1] = (x,y)\n",
    "            elif y+1 > 9:\n",
    "                directions[2] = (x,y)\n",
    "            elif y-1 < 0:\n",
    "                directions[3] = (x,y)\n",
    "                \n",
    "        self.probabilities_matrix[x][y] = probabilities\n",
    "        \n",
    "        for x, direction in enumerate(directions): \n",
    "#             print(x,direction)\n",
    "            sumn.append(probabilities[x] * (self.rewards[direction[0]][direction[1]]+ discount*self.values[direction[0]][direction[1]]))\n",
    "\n",
    "\n",
    "        return sum(sumn)    \n",
    "        \n",
    "\n",
    "        \n",
    "        \n",
    "        \n",
    "        \n"
   ]
  },
  {
   "cell_type": "code",
   "execution_count": 6,
   "metadata": {},
   "outputs": [],
   "source": [
    "\n",
    "def plot_optimal_policy(policy, epsilon = 0.01, w = 0.1):\n",
    "    q2 = environment(policy, epsilon, w)\n",
    "    q2.estimation(values)\n",
    "    q2.values =  np.rot90(np.rot90(np.rot90(q2.values)))\n",
    "    q2.rewards = np.rot90(np.rot90(np.rot90(q2.rewards)))\n",
    "    # q2.values=[x[::-1] for x in q2.values] \n",
    "    q2.estimation_policy(values)\n",
    "    # print(q2.policies)\n",
    "    # print(q2.values)\n",
    "\n",
    "    fig, ax = plt.subplots()\n",
    "\n",
    "    min_val, max_val = 0, 10\n",
    "    \n",
    "    for i in range(10):\n",
    "        for j in range(10):\n",
    "            if q2.policies[i][j] == 'L':\n",
    "                c = '⇧'\n",
    "            elif q2.policies[i][j] == 'R':\n",
    "                c = '⇩'\n",
    "            elif q2.policies[i][j] == 'U':\n",
    "                c = '⇨'\n",
    "            elif q2.policies[i][j] == 'D':\n",
    "                c = '⇦'\n",
    "            ax.text(i+0.5, j+0.5, str(c), va='center', ha='center')\n",
    "# plt.gca().invert_yaxis()\n",
    "\n",
    "# plt.matshow(q2.values)\n",
    "    ax.set_xlim(min_val, max_val)\n",
    "    ax.set_ylim(min_val, max_val)\n",
    "    ax.grid()\n",
    "    xticks = range(max_val+1)\n",
    "    plt.xticks(xticks)\n",
    "    plt.yticks(xticks, xticks[::-1])\n",
    "    ax.xaxis.tick_top()\n",
    "\n"
   ]
  },
  {
   "cell_type": "code",
   "execution_count": 7,
   "metadata": {},
   "outputs": [],
   "source": [
    "def plot_values(policy, epsilon = 0.01, w = 0.1 , roundNumb = 3):\n",
    "    q2 = environment(policy,epsilon ,w )\n",
    "    q2.estimation(values)\n",
    "    q2.values =  np.rot90(np.rot90(np.rot90(q2.values)))\n",
    "    q2.rewards = np.rot90(np.rot90(np.rot90(q2.rewards)))\n",
    "    # q2.values=[x[::-1] for x in q2.values] \n",
    "    q2.estimation_policy(values)\n",
    "    # print(q2.policies)\n",
    "    # print(q2.values)\n",
    "\n",
    "    fig, ax = plt.subplots()\n",
    "\n",
    "    min_val, max_val = 0, 10\n",
    "\n",
    "    min_val, max_val = 0, 10\n",
    "    for i in range(10):\n",
    "        for j in range(10):\n",
    "            c = round(q2.values[i][j], roundNumb)\n",
    "            ax.text(i+0.5, j+0.5, str(c), va='center', ha='center')\n",
    "\n",
    "    ax.set_xlim(min_val, max_val)\n",
    "    ax.set_ylim(min_val, max_val)\n",
    "\n",
    "    ax.grid()\n",
    "    xticks = range(max_val+1)\n",
    "    plt.xticks(xticks)\n",
    "    plt.yticks(xticks, xticks[::-1])\n",
    "    ax.xaxis.tick_top()\n",
    "def plot_heatmap(policy, epsilon =0.01, w=0.1 , alphaA = 0.9):\n",
    "    q2 = environment(policy, epsilon ,w )\n",
    "    q2.estimation(values)\n",
    "    #ax.xaxis.tick_top()\n",
    "    plt.pcolor(q2.values, alpha= alphaA )\n",
    "    plt.gca().invert_yaxis()\n",
    "    plt.colorbar()\n",
    "   "
   ]
  },
  {
   "cell_type": "code",
   "execution_count": null,
   "metadata": {},
   "outputs": [],
   "source": []
  },
  {
   "cell_type": "code",
   "execution_count": null,
   "metadata": {},
   "outputs": [],
   "source": []
  },
  {
   "cell_type": "code",
   "execution_count": null,
   "metadata": {},
   "outputs": [],
   "source": []
  },
  {
   "cell_type": "markdown",
   "metadata": {},
   "source": [
    "# Tyler's Section"
   ]
  },
  {
   "cell_type": "code",
   "execution_count": 173,
   "metadata": {},
   "outputs": [],
   "source": [
    "from cvxopt import matrix, solvers\n",
    "import heapq\n",
    "solvers.options['show_progress'] = False\n",
    "\n",
    "np.set_printoptions(threshold=sys.maxsize)\n",
    "np.set_printoptions(precision=3)"
   ]
  },
  {
   "cell_type": "markdown",
   "metadata": {},
   "source": [
    "### BACKUPS"
   ]
  },
  {
   "cell_type": "code",
   "execution_count": 92,
   "metadata": {},
   "outputs": [],
   "source": [
    "# def learn_reward(expert_policy,lamb,discount,probabilities_matrix):\n",
    "#     array_size = 10\n",
    "#     n_states = 100\n",
    "#     c = matrix(np.concatenate((np.ones(n_states),-lamb * np.ones(n_states),np.zeros(n_states)),axis=0))\n",
    "# #     print(c.size)\n",
    "    \n",
    "# #     sort_probabilities = np.sort(probabilities_matrix,axis=2)\n",
    "#     P_a1, P_a = get_policy_probabilities(expert_policy,probabilities_matrix)\n",
    "# #     P_a1 = np.array(P_a1).flatten\n",
    "# #     print(P_a1.shape)\n",
    "# #     P_a = np.array(P_a).flatten\n",
    "# #     print(P_a.shape)\n",
    "# #     P_a1 = probabilities_matrix\n",
    "# #     P_a = np.delete(sort_probabilities,[0,1,3], axis=2).reshape((array_size, array_size))\n",
    "#     P_a_term = -((P_a1-P_a)/(np.ones(n_states)-discount*P_a1))\n",
    "    \n",
    "#     row_1 = np.concatenate((np.ones(n_states),np.zeros(n_states),P_a_term),axis=0)\n",
    "#     row_2 = np.concatenate((np.zeros(n_states),np.zeros(n_states),P_a_term),axis=0)\n",
    "#     row_3 = np.concatenate((np.zeros(n_states),-np.ones(n_states),np.ones(n_states)),axis=0)\n",
    "#     row_4 = np.concatenate((np.zeros(n_states),-np.ones(n_states),-np.ones(n_states)),axis=0)\n",
    "#     row_5 = np.concatenate((np.zeros(n_states),np.zeros(n_states),np.ones(n_states)),axis=0)\n",
    "#     row_6 = np.concatenate((np.zeros(n_states),np.zeros(n_states),-np.ones(n_states)),axis=0)\n",
    "# #     print(row_1.shape)\n",
    "# #     print(row_2.shape)\n",
    "# #     print(row_3.shape)\n",
    "# #     print(row_4.shape)\n",
    "# #     print(row_5.shape)\n",
    "# #     print(row_6.shape)\n",
    "#     D = matrix(np.stack((row_1,row_2,row_3,row_4,row_5,row_6),axis=1))\n",
    "#     b = matrix([0.0,0.0,0.0,0.0,1.0,1.0])\n",
    "#     print(c.size)\n",
    "#     print(D.T.size)\n",
    "#     print(b.size)\n",
    "#     sol = solvers.lp(c, D.T, b)\n",
    "#     print(sol['x'])\n",
    "#     return sol['x']"
   ]
  },
  {
   "cell_type": "code",
   "execution_count": 64,
   "metadata": {},
   "outputs": [],
   "source": [
    "# def get_policy_probabilities(expert_policy,probabilities):\n",
    "#     optimal_probabilties = []\n",
    "#     sub_optimal_probabilties = []\n",
    "    \n",
    "#     for x, policy_row in enumerate(expert_policy):\n",
    "#         for y, policy_cell in enumerate(policy_row):\n",
    "#             if policy_cell == 'U':\n",
    "#                 optimal_probabilties.append(probabilities[x][y][0])\n",
    "#                 sub_optimal_probabilties.append(probabilities[x][y][1])\n",
    "#             elif policy_cell == 'D':\n",
    "#                 optimal_probabilties.append(probabilities[x][y][1])\n",
    "#                 sub_optimal_probabilties.append(probabilities[x][y][0])\n",
    "#             elif policy_cell == 'R':\n",
    "#                 optimal_probabilties.append(probabilities[x][y][2])\n",
    "#                 sub_optimal_probabilties.append(probabilities[x][y][3])\n",
    "#             elif policy_cell == 'L':\n",
    "#                 optimal_probabilties.append(probabilities[x][y][3])\n",
    "#                 sub_optimal_probabilties.append(probabilities[x][y][2])\n",
    "    \n",
    "#     return np.array(optimal_probabilties), np.array(sub_optimal_probabilties)\n",
    "        "
   ]
  },
  {
   "cell_type": "markdown",
   "metadata": {},
   "source": [
    "### END BACKUPS"
   ]
  },
  {
   "cell_type": "code",
   "execution_count": null,
   "metadata": {},
   "outputs": [],
   "source": []
  },
  {
   "cell_type": "code",
   "execution_count": 199,
   "metadata": {},
   "outputs": [],
   "source": [
    "def get_probability_matrices(expert_policy,probabilities,n_states):\n",
    "    optimal_probabilty_matrix = np.zeros((n_states,n_states))\n",
    "    probabilty_matrix = np.zeros((n_states,n_states))\n",
    "    \n",
    "    #iterate over every state in the 10X10 expert_policy\n",
    "    \n",
    "    # ?BOARD STATES? i think it looks like this.\n",
    "    # # # # # # # # # #\n",
    "    # 9 19 .... 89 99 #\n",
    "    # . .. .... 88 98 #\n",
    "    # . .. .... .. .. #\n",
    "    # 2 12 .... 82 92 #\n",
    "    # 1 11 .... 81 91 #\n",
    "    # 0 10 .... 80 90 #\n",
    "    # # # # # # # # # #\n",
    "    \n",
    "    for x, policy_row in enumerate(expert_policy):\n",
    "        for y, policy_cell in enumerate(policy_row):\n",
    "            #calculate state when moving in a direction. left -> move\n",
    "            \n",
    "            left_state = 10*x+y - 10\n",
    "            right_state = 10*x+y + 10\n",
    "            up_state = 10*x+y + 1\n",
    "            down_state = 10*x+y - 1\n",
    "            #used to sum probabilties if they try to go off of the board to current state\n",
    "            cur_state_prob = 0\n",
    "            #check to see if state tries to go off board\n",
    "            if (left_state < 0):\n",
    "                #add probability to current state if it does\n",
    "                cur_state_prob += probabilities[x][y][0]\n",
    "                #add 100% probability for expert policy state transition when trying to go off of board\n",
    "                if policy_cell == 'L':\n",
    "                    optimal_probabilty_matrix[10*x+y][10*x+y] = 1\n",
    "            else:\n",
    "                #if not trying to go off of board, add regular probability from base probabilities \n",
    "                #(from above class by shelly)\n",
    "                probabilty_matrix[10*x+y][left_state] = probabilities[x][y][0]\n",
    "                #add 100% probability for expert policy state transition\n",
    "                if policy_cell == 'L':\n",
    "                    optimal_probabilty_matrix[10*x+y][left_state] = 1\n",
    "            \n",
    "            if (right_state > 99):\n",
    "                cur_state_prob += probabilities[x][y][1]\n",
    "                if policy_cell == 'R':\n",
    "                    optimal_probabilty_matrix[10*x+y][10*x+y] = 1\n",
    "            else:\n",
    "                probabilty_matrix[10*x+y][right_state] = probabilities[x][y][1]\n",
    "                if policy_cell == 'R':\n",
    "                    optimal_probabilty_matrix[10*x+y][right_state] = 1\n",
    "            \n",
    "            if (up_state % 10 < x or up_state == 100):\n",
    "                cur_state_prob += probabilities[x][y][2]\n",
    "                if policy_cell == 'U':\n",
    "                    optimal_probabilty_matrix[10*x+y][10*x+y] = 1\n",
    "            else:\n",
    "                probabilty_matrix[10*x+y][up_state] = probabilities[x][y][2]\n",
    "                if policy_cell == 'U':\n",
    "                    optimal_probabilty_matrix[10*x+y][up_state] = 1\n",
    "            \n",
    "            if (down_state % 10 > x or down_state == -1):\n",
    "                cur_state_prob += probabilities[x][y][3]\n",
    "                if policy_cell == 'D':\n",
    "                    optimal_probabilty_matrix[10*x+y][10*x+y] = 1\n",
    "            else:\n",
    "                probabilty_matrix[10*x+y][down_state] = probabilities[x][y][3]\n",
    "                if policy_cell == 'D':\n",
    "                    optimal_probabilty_matrix[10*x+y][down_state] = 1\n",
    "            \n",
    "            #add probability of going back to current state (from trying to go off of the board)\n",
    "            probabilty_matrix[10*x+y][10*x+y] = cur_state_prob\n",
    "    \n",
    "#     print(probabilities)\n",
    "#     print(expert_policy)\n",
    "#     print(optimal_probabilty_matrix)\n",
    "#     print(probabilty_matrix)\n",
    "    \n",
    "    return optimal_probabilty_matrix, probabilty_matrix\n",
    "        "
   ]
  },
  {
   "cell_type": "markdown",
   "metadata": {},
   "source": [
    "### Part 4: Inverse Reinforcement learning (IRL)\n"
   ]
  },
  {
   "cell_type": "code",
   "execution_count": 214,
   "metadata": {},
   "outputs": [],
   "source": [
    "def learn_reward(expert_policy,lamb,discount,probabilities_matrix,R_max):\n",
    "    n_states = 100\n",
    "    # maximize   c^T * x\n",
    "    # S.T.       D * x < b\n",
    "    \n",
    "    c = matrix(np.concatenate((np.ones(n_states),-lamb * np.ones(n_states),np.zeros(n_states)),axis=0))\n",
    "#     print(c.size)\n",
    "#     print(c)\n",
    "    \n",
    "#     sort_probabilities = np.sort(probabilities_matrix,axis=2)\n",
    "    P_a1, P_a = get_probability_matrices(expert_policy,probabilities_matrix,n_states)\n",
    "#     print(P_a1.shape)\n",
    "#     print(P_a.shape)\n",
    "    \n",
    "    P_a_term = -(np.matmul((P_a1-P_a),np.linalg.inv(np.identity(n_states)-discount*P_a1)))\n",
    "#     print(P_a_term)\n",
    "    \n",
    "    rows_1 = np.concatenate((np.identity(n_states),np.zeros((n_states,n_states)),P_a_term),axis=1)\n",
    "    rows_2 = np.concatenate((np.zeros((n_states,n_states)),np.zeros((n_states,n_states)),P_a_term),axis=1)\n",
    "    rows_3 = np.concatenate((np.zeros((n_states,n_states)),-np.identity(n_states),np.identity(n_states)),axis=1)\n",
    "    rows_4 = np.concatenate((np.zeros((n_states,n_states)),-np.identity(n_states),-np.identity(n_states)),axis=1)\n",
    "    rows_5 = np.concatenate((np.zeros((n_states,n_states)),np.zeros((n_states,n_states)),np.identity(n_states)),axis=1)\n",
    "    rows_6 = np.concatenate((np.zeros((n_states,n_states)),np.zeros((n_states,n_states)),-np.identity(n_states)),axis=1)\n",
    "#     print(rows_1.shape)\n",
    "#     print(rows_2.shape)\n",
    "#     print(rows_3.shape)\n",
    "#     print(rows_4.shape)\n",
    "#     print(rows_5.shape)\n",
    "#     print(rows_6.shape)\n",
    "    \n",
    "    D = matrix(np.concatenate((rows_1,rows_2,rows_3,rows_4,rows_5,rows_6),axis=0))\n",
    "    \n",
    "    b = matrix(np.concatenate((np.zeros(4*n_states),R_max*np.ones(2*n_states)),axis=0))\n",
    "    \n",
    "#     print(c.size)\n",
    "#     print(D.size)\n",
    "#     print(b.size)\n",
    "\n",
    "    sol = solvers.lp(c, D, b)\n",
    "\n",
    "    new_reward = np.rot90(np.array(sol['x'])[-n_states:].reshape(10,10))\n",
    "#     print(new_reward)\n",
    "#     print(new_reward.shape)\n",
    "\n",
    "    return new_reward"
   ]
  },
  {
   "cell_type": "code",
   "execution_count": 176,
   "metadata": {},
   "outputs": [],
   "source": [
    "def compute_accuracy(expert_policy,learned_policy,states):\n",
    "    acc_sum = 0\n",
    "    for x_row, y_row in zip(expert_policy, learned_policy):\n",
    "        for x_cell, y_cell in zip(x_row, y_row):\n",
    "            acc_sum += np.sum(x_cell==y_cell)\n",
    "#     print(acc_sum)\n",
    "    return acc_sum / states"
   ]
  },
  {
   "cell_type": "code",
   "execution_count": null,
   "metadata": {},
   "outputs": [],
   "source": [
    "\n"
   ]
  },
  {
   "cell_type": "markdown",
   "metadata": {},
   "source": [
    "#### Q10"
   ]
  },
  {
   "cell_type": "code",
   "execution_count": 239,
   "metadata": {},
   "outputs": [
    {
     "data": {
      "image/png": "[encoded data removed]",
      "text/plain": [
       "<Figure size 432x288 with 1 Axes>"
      ]
     },
     "metadata": {
      "needs_background": "light"
     },
     "output_type": "display_data"
    }
   ],
   "source": [
    "discount_val = .8\n",
    "# wind_val = 0.01\n",
    "# grid_h = 10\n",
    "# grid_w = 10\n",
    "# grid_states = grid_h * grid_w\n",
    "# moves = ['L', 'R', 'U', 'D']\n",
    "orig_reward = ReFunc1\n",
    "lambdas = np.linspace(.01,5,500)\n",
    "# lambdas = [2.5]\n",
    "# lambdas = np.linspace(.01,1,100)\n",
    "accuracies = []\n",
    "# print(lambdas)\n",
    "#ReFunc1\n",
    "R_max = 1\n",
    "#ReFunc2\n",
    "# R_max = 10\n",
    "# np.max(ReFunc1)\n",
    "\n",
    "q10 = environment(orig_reward)\n",
    "q10.estimation(values)\n",
    "# print(q10.values)\n",
    "q10.values =  np.rot90(np.rot90(np.rot90(q10.values)))\n",
    "q10.rewards = np.rot90(np.rot90(np.rot90(q10.rewards)))\n",
    "q10.estimation_policy(values)\n",
    "expert_policy = q10.policies\n",
    "# print(q10.rewards)\n",
    "# print(q10.probabilities_matrix)\n",
    "# print(q10.policies)\n",
    "\n",
    "max_accuracy = 0\n",
    "best_reward = ReFunc1\n",
    "\n",
    "for lamb in lambdas:\n",
    "    new_reward = learn_reward(expert_policy,lamb,discount_val,q10.probabilities_matrix,R_max)\n",
    "    \n",
    "    q10_new = environment(new_reward)\n",
    "    q10_new.estimation(values)\n",
    "    q10_new.values =  np.rot90(np.rot90(np.rot90(q10_new.values)))\n",
    "    q10_new.rewards = np.rot90(np.rot90(np.rot90(q10_new.rewards)))\n",
    "    q10_new.estimation_policy(values)\n",
    "    learned_policy = q10_new.policies\n",
    "\n",
    "    accuracy = compute_accuracy(expert_policy,learned_policy,grid_states)\n",
    "    \n",
    "    accuracies.append(accuracy)\n",
    "    \n",
    "    if(accuracy > max_accuracy):\n",
    "        best_reward = new_reward\n",
    "        max_accuracy = accuracy\n",
    "\n",
    "\n",
    "plt.plot(lambdas,accuracies) \n",
    "plt.show()"
   ]
  },
  {
   "cell_type": "code",
   "execution_count": 240,
   "metadata": {},
   "outputs": [
    {
     "name": "stdout",
     "output_type": "stream",
     "text": [
      "[[-0.108 -0.097 -0.087  0.096  0.106  0.116  0.108  0.1    0.117 -0.029]\n",
      " [-0.108 -0.095  0.044  0.072 -0.099 -0.099 -0.114  0.016  0.142 -0.014]\n",
      " [-0.094 -0.047  0.003 -0.098 -0.112 -0.112 -0.015 -0.02   0.165 -0.009]\n",
      " [-0.105 -0.096 -0.095 -0.11   0.037 -0.021 -0.125 -0.124  0.162 -0.005]\n",
      " [ 0.011 -0.106 -0.107 -0.115  0.014 -0.018 -0.101 -0.13   0.155 -0.002]\n",
      " [ 0.     0.001  0.03  -0.015  0.123  0.152 -0.084 -0.111  0.146  0.001]\n",
      " [ 0.018  0.03  -0.015  0.001  0.002  0.174  0.177  0.177  0.134  0.002]\n",
      " [-0.123  0.044  0.06   0.036  0.018  0.009  0.007  0.175  0.21   0.002]\n",
      " [-0.157 -0.103 -0.111 -0.134 -0.096 -0.074 -0.066 -0.057  0.168  0.216]\n",
      " [-0.175 -0.172 -0.159 -0.111 -0.143 -0.16  -0.168 -0.159 -0.17   0.177]]\n"
     ]
    }
   ],
   "source": [
    "print(best_reward*1e8)"
   ]
  },
  {
   "cell_type": "code",
   "execution_count": 241,
   "metadata": {},
   "outputs": [
    {
     "data": {
      "image/png": "[encoded data removed]",
      "text/plain": [
       "<Figure size 432x288 with 1 Axes>"
      ]
     },
     "metadata": {
      "needs_background": "light"
     },
     "output_type": "display_data"
    }
   ],
   "source": [
    "plot_values(best_reward*1e8)"
   ]
  },
  {
   "cell_type": "code",
   "execution_count": 242,
   "metadata": {},
   "outputs": [
    {
     "data": {
      "image/png": "[encoded data removed]",
      "text/plain": [
       "<Figure size 432x288 with 1 Axes>"
      ]
     },
     "metadata": {
      "needs_background": "light"
     },
     "output_type": "display_data"
    }
   ],
   "source": [
    "plot_values(ReFunc1)"
   ]
  },
  {
   "cell_type": "code",
   "execution_count": 243,
   "metadata": {},
   "outputs": [
    {
     "data": {
      "image/png": "[encoded data removed]",
      "text/plain": [
       "<Figure size 432x288 with 2 Axes>"
      ]
     },
     "metadata": {
      "needs_background": "light"
     },
     "output_type": "display_data"
    }
   ],
   "source": [
    "plot_heatmap(best_reward)"
   ]
  },
  {
   "cell_type": "code",
   "execution_count": 244,
   "metadata": {},
   "outputs": [
    {
     "data": {
      "image/png": "[encoded data removed]",
      "text/plain": [
       "<Figure size 432x288 with 2 Axes>"
      ]
     },
     "metadata": {
      "needs_background": "light"
     },
     "output_type": "display_data"
    }
   ],
   "source": [
    "plot_heatmap(ReFunc1)"
   ]
  },
  {
   "cell_type": "code",
   "execution_count": 245,
   "metadata": {},
   "outputs": [
    {
     "data": {
      "image/png": "[encoded data removed]",
      "text/plain": [
       "<Figure size 432x288 with 1 Axes>"
      ]
     },
     "metadata": {
      "needs_background": "light"
     },
     "output_type": "display_data"
    }
   ],
   "source": [
    "plot_optimal_policy(best_reward)"
   ]
  },
  {
   "cell_type": "code",
   "execution_count": 246,
   "metadata": {},
   "outputs": [
    {
     "data": {
      "image/png": "[encoded data removed]",
      "text/plain": [
       "<Figure size 432x288 with 1 Axes>"
      ]
     },
     "metadata": {
      "needs_background": "light"
     },
     "output_type": "display_data"
    }
   ],
   "source": [
    "plot_optimal_policy(ReFunc1)"
   ]
  },
  {
   "cell_type": "markdown",
   "metadata": {},
   "source": [
    "#### Q11"
   ]
  },
  {
   "cell_type": "code",
   "execution_count": null,
   "metadata": {},
   "outputs": [],
   "source": []
  },
  {
   "cell_type": "markdown",
   "metadata": {},
   "source": [
    "#### Q12"
   ]
  },
  {
   "cell_type": "code",
   "execution_count": null,
   "metadata": {},
   "outputs": [],
   "source": []
  },
  {
   "cell_type": "markdown",
   "metadata": {},
   "source": [
    "#### Q13"
   ]
  },
  {
   "cell_type": "code",
   "execution_count": null,
   "metadata": {},
   "outputs": [],
   "source": []
  },
  {
   "cell_type": "markdown",
   "metadata": {},
   "source": [
    "#### Q14"
   ]
  },
  {
   "cell_type": "code",
   "execution_count": null,
   "metadata": {},
   "outputs": [],
   "source": []
  },
  {
   "cell_type": "markdown",
   "metadata": {},
   "source": [
    "#### Q15\n"
   ]
  },
  {
   "cell_type": "code",
   "execution_count": null,
   "metadata": {},
   "outputs": [],
   "source": []
  },
  {
   "cell_type": "markdown",
   "metadata": {},
   "source": [
    "#### Q16\n"
   ]
  },
  {
   "cell_type": "code",
   "execution_count": null,
   "metadata": {},
   "outputs": [],
   "source": []
  },
  {
   "cell_type": "markdown",
   "metadata": {},
   "source": [
    "#### Q17\n"
   ]
  },
  {
   "cell_type": "code",
   "execution_count": null,
   "metadata": {},
   "outputs": [],
   "source": []
  },
  {
   "cell_type": "markdown",
   "metadata": {},
   "source": [
    "#### Q18\n"
   ]
  },
  {
   "cell_type": "code",
   "execution_count": null,
   "metadata": {},
   "outputs": [],
   "source": []
  },
  {
   "cell_type": "markdown",
   "metadata": {},
   "source": [
    "#### Q19\n"
   ]
  },
  {
   "cell_type": "code",
   "execution_count": null,
   "metadata": {},
   "outputs": [],
   "source": []
  },
  {
   "cell_type": "markdown",
   "metadata": {},
   "source": [
    "#### Q20\n"
   ]
  },
  {
   "cell_type": "code",
   "execution_count": null,
   "metadata": {},
   "outputs": [],
   "source": []
  },
  {
   "cell_type": "markdown",
   "metadata": {},
   "source": [
    "#### Q21\n"
   ]
  },
  {
   "cell_type": "code",
   "execution_count": null,
   "metadata": {},
   "outputs": [],
   "source": []
  },
  {
   "cell_type": "markdown",
   "metadata": {},
   "source": [
    "#### Q22\n"
   ]
  },
  {
   "cell_type": "code",
   "execution_count": null,
   "metadata": {},
   "outputs": [],
   "source": []
  },
  {
   "cell_type": "markdown",
   "metadata": {},
   "source": [
    "#### Q23\n"
   ]
  },
  {
   "cell_type": "code",
   "execution_count": null,
   "metadata": {},
   "outputs": [],
   "source": []
  },
  {
   "cell_type": "markdown",
   "metadata": {},
   "source": [
    "#### Q24\n"
   ]
  },
  {
   "cell_type": "code",
   "execution_count": null,
   "metadata": {},
   "outputs": [],
   "source": []
  },
  {
   "cell_type": "markdown",
   "metadata": {},
   "source": [
    "#### Q25\n"
   ]
  },
  {
   "cell_type": "code",
   "execution_count": null,
   "metadata": {},
   "outputs": [],
   "source": []
  },
  {
   "cell_type": "code",
   "execution_count": null,
   "metadata": {},
   "outputs": [],
   "source": []
  },
  {
   "cell_type": "code",
   "execution_count": null,
   "metadata": {},
   "outputs": [],
   "source": []
  },
  {
   "cell_type": "code",
   "execution_count": null,
   "metadata": {},
   "outputs": [],
   "source": []
  }
 ],
 "metadata": {
  "kernelspec": {
   "display_name": "Python 3",
   "language": "python",
   "name": "python3"
  },
  "language_info": {
   "codemirror_mode": {
    "name": "ipython",
    "version": 3
   },
   "file_extension": ".py",
   "mimetype": "text/x-python",
   "name": "python",
   "nbconvert_exporter": "python",
   "pygments_lexer": "ipython3",
   "version": "3.6.4"
  },
  "varInspector": {
   "cols": {
    "lenName": 16,
    "lenType": 16,
    "lenVar": 40
   },
   "kernels_config": {
    "python": {
     "delete_cmd_postfix": "",
     "delete_cmd_prefix": "del ",
     "library": "var_list.py",
     "varRefreshCmd": "print(var_dic_list())"
    },
    "r": {
     "delete_cmd_postfix": ") ",
     "delete_cmd_prefix": "rm(",
     "library": "var_list.r",
     "varRefreshCmd": "cat(var_dic_list()) "
    }
   },
   "types_to_exclude": [
    "module",
    "function",
    "builtin_function_or_method",
    "instance",
    "_Feature"
   ],
   "window_display": false
  }
 },
 "nbformat": 4,
 "nbformat_minor": 2
}
